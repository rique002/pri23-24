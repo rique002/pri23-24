{
 "cells": [
  {
   "cell_type": "markdown",
   "metadata": {},
   "source": [
    "# PRI Project"
   ]
  },
  {
   "cell_type": "markdown",
   "metadata": {},
   "source": [
    "## Imports"
   ]
  },
  {
   "cell_type": "code",
   "execution_count": 3,
   "metadata": {},
   "outputs": [],
   "source": [
    "import pandas as pd\n",
    "import re"
   ]
  },
  {
   "cell_type": "markdown",
   "metadata": {},
   "source": [
    "## Function to extract salary and pay period"
   ]
  },
  {
   "cell_type": "code",
   "execution_count": 4,
   "metadata": {},
   "outputs": [],
   "source": [
    "def extract_salary_and_pay_period(salary_string):\n",
    "    if 'a year' in salary_string:\n",
    "        pay_period = 'YEARLY'\n",
    "        match = re.search(r'\\$([\\d,.]+[kK]?)-?([\\d,.]+[kK]?)?', salary_string)\n",
    "        if match:\n",
    "            low_value = match.group(1).replace(',', '').replace('k', '000').replace('K', '000')\n",
    "            high_value = match.group(2).replace(',', '').replace('k', '000').replace('K', '000') if match.group(2) else low_value\n",
    "            salary = (float(low_value) + float(high_value)) / 2\n",
    "        else:\n",
    "            match = re.search(r'\\$([\\d,.]+[kK]?)', salary_string)\n",
    "            if match:\n",
    "                salary = float(match.group(1).replace(',', '').replace('k', '000').replace('K', '000'))\n",
    "            else:\n",
    "                salary = None\n",
    "    elif 'a month' in salary_string:\n",
    "        pay_period = 'MONTHLY'\n",
    "        match = re.findall(r'\\$([\\d,.]+[kK]?)', salary_string)\n",
    "        if match:\n",
    "            salary_range = [(float(m.replace(',', '').replace('k', '000').replace('K', '000'))) for m in match]\n",
    "            salary = sum(salary_range) / len(salary_range)\n",
    "        else:\n",
    "            salary = None\n",
    "    elif 'an hour' in salary_string:\n",
    "        pay_period = 'HOURLY'\n",
    "        match = re.search(r'\\$([\\d,.]+[kK]?)', salary_string)\n",
    "        if match:\n",
    "            salary = float(match.group(1).replace(',', '').replace('k', '000').replace('K', '000'))\n",
    "        else:\n",
    "            salary = None\n",
    "    else:\n",
    "        pay_period = 'unknown'\n",
    "        salary = None\n",
    "    return salary, pay_period"
   ]
  },
  {
   "cell_type": "markdown",
   "metadata": {},
   "source": [
    "## Function to extract city and country"
   ]
  },
  {
   "cell_type": "code",
   "execution_count": 25,
   "metadata": {},
   "outputs": [],
   "source": [
    "def extract_city_and_country(location_string, country_list):\n",
    "    splited_location = location_string.split(',')\n",
    "    first_word = splited_location[0]\n",
    "    last_word = splited_location[-1][1:]\n",
    "    country_names = country_list['name'].values\n",
    "    country_alpha = country_list['alpha-2'].values\n",
    "\n",
    "    if first_word in country_names:\n",
    "        return None, first_word\n",
    "    elif first_word in country_alpha:\n",
    "        country = country_list[country_list['alpha-2'] == first_word]['name'].iloc[0]\n",
    "        return None, country\n",
    "    elif last_word in country_names:\n",
    "        return first_word, last_word  \n",
    "    elif last_word in country_alpha:\n",
    "        country = country_list[country_list['alpha-2'] == last_word]['name'].iloc[0]\n",
    "        return first_word, country  \n",
    "    elif len(splited_location) > 0:\n",
    "        return (first_word, 'United States of America')\n",
    "    return None, None"
   ]
  },
  {
   "cell_type": "code",
   "execution_count": 23,
   "metadata": {},
   "outputs": [
    {
     "name": "stdout",
     "output_type": "stream",
     "text": [
      "('Lisbon', 'Portugal')\n",
      "(None, 'Australia')\n",
      "('Alabama', 'United States of America')\n",
      "('New York', 'United States of America')\n",
      "('London', 'United Kingdom')\n"
     ]
    },
    {
     "data": {
      "text/html": [
       "<div>\n",
       "<style scoped>\n",
       "    .dataframe tbody tr th:only-of-type {\n",
       "        vertical-align: middle;\n",
       "    }\n",
       "\n",
       "    .dataframe tbody tr th {\n",
       "        vertical-align: top;\n",
       "    }\n",
       "\n",
       "    .dataframe thead th {\n",
       "        text-align: right;\n",
       "    }\n",
       "</style>\n",
       "<table border=\"1\" class=\"dataframe\">\n",
       "  <thead>\n",
       "    <tr style=\"text-align: right;\">\n",
       "      <th></th>\n",
       "      <th>name</th>\n",
       "      <th>alpha-2</th>\n",
       "      <th>region</th>\n",
       "      <th>sub-region</th>\n",
       "    </tr>\n",
       "  </thead>\n",
       "  <tbody>\n",
       "    <tr>\n",
       "      <th>0</th>\n",
       "      <td>Afghanistan</td>\n",
       "      <td>AF</td>\n",
       "      <td>Asia</td>\n",
       "      <td>Southern Asia</td>\n",
       "    </tr>\n",
       "    <tr>\n",
       "      <th>1</th>\n",
       "      <td>Åland Islands</td>\n",
       "      <td>AX</td>\n",
       "      <td>Europe</td>\n",
       "      <td>Northern Europe</td>\n",
       "    </tr>\n",
       "    <tr>\n",
       "      <th>2</th>\n",
       "      <td>Albania</td>\n",
       "      <td>AL</td>\n",
       "      <td>Europe</td>\n",
       "      <td>Southern Europe</td>\n",
       "    </tr>\n",
       "    <tr>\n",
       "      <th>3</th>\n",
       "      <td>Algeria</td>\n",
       "      <td>DZ</td>\n",
       "      <td>Africa</td>\n",
       "      <td>Northern Africa</td>\n",
       "    </tr>\n",
       "    <tr>\n",
       "      <th>4</th>\n",
       "      <td>American Samoa</td>\n",
       "      <td>AS</td>\n",
       "      <td>Oceania</td>\n",
       "      <td>Polynesia</td>\n",
       "    </tr>\n",
       "  </tbody>\n",
       "</table>\n",
       "</div>"
      ],
      "text/plain": [
       "             name alpha-2   region       sub-region\n",
       "0     Afghanistan      AF     Asia    Southern Asia\n",
       "1   Åland Islands      AX   Europe  Northern Europe\n",
       "2         Albania      AL   Europe  Southern Europe\n",
       "3         Algeria      DZ   Africa  Northern Africa\n",
       "4  American Samoa      AS  Oceania        Polynesia"
      ]
     },
     "execution_count": 23,
     "metadata": {},
     "output_type": "execute_result"
    }
   ],
   "source": [
    "countries_data = pd.read_csv(\"data/countries.csv\")\n",
    "countries_data = countries_data[[\"name\",\"alpha-2\",\"region\",\"sub-region\"]]\n",
    "countries_data.head()"
   ]
  },
  {
   "cell_type": "code",
   "execution_count": 31,
   "metadata": {},
   "outputs": [
    {
     "data": {
      "text/html": [
       "<div>\n",
       "<style scoped>\n",
       "    .dataframe tbody tr th:only-of-type {\n",
       "        vertical-align: middle;\n",
       "    }\n",
       "\n",
       "    .dataframe tbody tr th {\n",
       "        vertical-align: top;\n",
       "    }\n",
       "\n",
       "    .dataframe thead th {\n",
       "        text-align: right;\n",
       "    }\n",
       "</style>\n",
       "<table border=\"1\" class=\"dataframe\">\n",
       "  <thead>\n",
       "    <tr style=\"text-align: right;\">\n",
       "      <th></th>\n",
       "      <th>title</th>\n",
       "      <th>work-type</th>\n",
       "      <th>salary</th>\n",
       "      <th>description</th>\n",
       "      <th>pay_period</th>\n",
       "      <th>city</th>\n",
       "      <th>country</th>\n",
       "      <th>company_id</th>\n",
       "    </tr>\n",
       "  </thead>\n",
       "  <tbody>\n",
       "    <tr>\n",
       "      <th>0</th>\n",
       "      <td>Central Graduate Advisor</td>\n",
       "      <td>Full-time</td>\n",
       "      <td>47210.0</td>\n",
       "      <td>FGSR Grad Studies &amp; Rsrch Admi\\n\\nCompetition ...</td>\n",
       "      <td>YEARLY</td>\n",
       "      <td>Edmonton</td>\n",
       "      <td>United States of America</td>\n",
       "      <td>3700152515</td>\n",
       "    </tr>\n",
       "    <tr>\n",
       "      <th>1</th>\n",
       "      <td>Post-doctoral Fellow</td>\n",
       "      <td>Full-time</td>\n",
       "      <td>50000.0</td>\n",
       "      <td>ART East Asian Studies\\n\\nCompetition No. -\\nA...</td>\n",
       "      <td>YEARLY</td>\n",
       "      <td>Edmonton</td>\n",
       "      <td>United States of America</td>\n",
       "      <td>3700152515</td>\n",
       "    </tr>\n",
       "    <tr>\n",
       "      <th>2</th>\n",
       "      <td>Graduate Research Assistant</td>\n",
       "      <td>Full-time</td>\n",
       "      <td>20000.0</td>\n",
       "      <td>The Adaptive Bionics Lab at the University of ...</td>\n",
       "      <td>YEARLY</td>\n",
       "      <td>Calgary</td>\n",
       "      <td>United States of America</td>\n",
       "      <td>3700152516</td>\n",
       "    </tr>\n",
       "    <tr>\n",
       "      <th>3</th>\n",
       "      <td>Postdoctoral Fellow in Environmental Epidemiology</td>\n",
       "      <td>Full-time</td>\n",
       "      <td>50000.0</td>\n",
       "      <td>PH School of Public Health\\n\\nCompetition No. ...</td>\n",
       "      <td>YEARLY</td>\n",
       "      <td>Edmonton</td>\n",
       "      <td>United States of America</td>\n",
       "      <td>3700152515</td>\n",
       "    </tr>\n",
       "    <tr>\n",
       "      <th>4</th>\n",
       "      <td>Advisor, Student Service Centre</td>\n",
       "      <td>Full-time</td>\n",
       "      <td>51055.0</td>\n",
       "      <td>RO Student Service Centre\\n\\nCompetition No. -...</td>\n",
       "      <td>YEARLY</td>\n",
       "      <td>Edmonton</td>\n",
       "      <td>United States of America</td>\n",
       "      <td>3700152515</td>\n",
       "    </tr>\n",
       "  </tbody>\n",
       "</table>\n",
       "</div>"
      ],
      "text/plain": [
       "                                               title  work-type   salary  \\\n",
       "0                           Central Graduate Advisor  Full-time  47210.0   \n",
       "1                               Post-doctoral Fellow  Full-time  50000.0   \n",
       "2                        Graduate Research Assistant  Full-time  20000.0   \n",
       "3  Postdoctoral Fellow in Environmental Epidemiology  Full-time  50000.0   \n",
       "4                    Advisor, Student Service Centre  Full-time  51055.0   \n",
       "\n",
       "                                         description pay_period      city  \\\n",
       "0  FGSR Grad Studies & Rsrch Admi\\n\\nCompetition ...     YEARLY  Edmonton   \n",
       "1  ART East Asian Studies\\n\\nCompetition No. -\\nA...     YEARLY  Edmonton   \n",
       "2  The Adaptive Bionics Lab at the University of ...     YEARLY   Calgary   \n",
       "3  PH School of Public Health\\n\\nCompetition No. ...     YEARLY  Edmonton   \n",
       "4  RO Student Service Centre\\n\\nCompetition No. -...     YEARLY  Edmonton   \n",
       "\n",
       "                    country  company_id  \n",
       "0  United States of America  3700152515  \n",
       "1  United States of America  3700152515  \n",
       "2  United States of America  3700152516  \n",
       "3  United States of America  3700152515  \n",
       "4  United States of America  3700152515  "
      ]
     },
     "execution_count": 31,
     "metadata": {},
     "output_type": "execute_result"
    }
   ],
   "source": [
    "jobs_data = pd.read_csv(\"data/allJobs.csv\")\n",
    "jobs_data.drop(columns=[\"Date-Posted\"],inplace=True)\n",
    "jobs_data.rename(columns = {'Company':'company','Job-Title':'title','Job-Type':'work-type','Salary':'salary'\t,'Location':'location'\t,'Description':'description' }, inplace = True)\n",
    "jobs_data = jobs_data[jobs_data.salary.notnull()]\n",
    "# Apply the function to the 'salary' column\n",
    "jobs_data['salary'], jobs_data['pay_period'] = zip(*jobs_data['salary'].apply(extract_salary_and_pay_period))\n",
    "jobs_data['city'], jobs_data['country'] = zip(*jobs_data['location'].apply(lambda x: extract_city_and_country(x, countries_data)))\n",
    "jobs_data.drop(columns='location', inplace=True)\n",
    "\n",
    "company_data= jobs_data['company'].drop_duplicates().reset_index(drop=True).reset_index()\n",
    "company_data.columns = ['company_id', 'company']\n",
    "company_data['company_id'] = company_data['company_id'] + 3700152515\n",
    "\n",
    "jobs_data = pd.merge(jobs_data, company_data, on='company', how='left')\n",
    "jobs_data.drop(columns=[\"company\"],inplace=True)\n",
    "jobs_data['work-type'].replace({\"Contractor\": \"Contract\"}, inplace=True)\n",
    "jobs_data.head()"
   ]
  },
  {
   "cell_type": "code",
   "execution_count": 8,
   "metadata": {},
   "outputs": [
    {
     "data": {
      "text/plain": [
       "<AxesSubplot: >"
      ]
     },
     "execution_count": 8,
     "metadata": {},
     "output_type": "execute_result"
    },
    {
     "data": {
      "image/png": "[encoded data removed]",
      "text/plain": [
       "<Figure size 640x480 with 1 Axes>"
      ]
     },
     "metadata": {},
     "output_type": "display_data"
    }
   ],
   "source": [
    "%matplotlib inline\n",
    "\n",
    "import matplotlib.pyplot as plt\n",
    "\n",
    "jobs_data['pay_period'].value_counts().plot(kind='bar')"
   ]
  },
  {
   "cell_type": "code",
   "execution_count": 9,
   "metadata": {},
   "outputs": [
    {
     "data": {
      "text/html": [
       "<div>\n",
       "<style scoped>\n",
       "    .dataframe tbody tr th:only-of-type {\n",
       "        vertical-align: middle;\n",
       "    }\n",
       "\n",
       "    .dataframe tbody tr th {\n",
       "        vertical-align: top;\n",
       "    }\n",
       "\n",
       "    .dataframe thead th {\n",
       "        text-align: right;\n",
       "    }\n",
       "</style>\n",
       "<table border=\"1\" class=\"dataframe\">\n",
       "  <thead>\n",
       "    <tr style=\"text-align: right;\">\n",
       "      <th></th>\n",
       "      <th>company_id</th>\n",
       "      <th>title</th>\n",
       "      <th>description</th>\n",
       "      <th>salary</th>\n",
       "      <th>pay_period</th>\n",
       "      <th>work-type</th>\n",
       "      <th>location</th>\n",
       "    </tr>\n",
       "  </thead>\n",
       "  <tbody>\n",
       "    <tr>\n",
       "      <th>18</th>\n",
       "      <td>1082195.0</td>\n",
       "      <td>Contract Bilingual Recruiter</td>\n",
       "      <td>Location: Phoenix, AZ 85006---- IN OFFICE JOB ...</td>\n",
       "      <td>65000.00</td>\n",
       "      <td>YEARLY</td>\n",
       "      <td>Contract</td>\n",
       "      <td>Phoenix, AZ</td>\n",
       "    </tr>\n",
       "    <tr>\n",
       "      <th>96</th>\n",
       "      <td>72739246.0</td>\n",
       "      <td>After School Academic Tutor</td>\n",
       "      <td>Sterling House Community Center, Inc. Title: A...</td>\n",
       "      <td>33.59</td>\n",
       "      <td>HOURLY</td>\n",
       "      <td>Full-time</td>\n",
       "      <td>Stratford, CT</td>\n",
       "    </tr>\n",
       "    <tr>\n",
       "      <th>99</th>\n",
       "      <td>90666319.0</td>\n",
       "      <td>oracle SCM TECHNO CLOUD FUNCTIONAL</td>\n",
       "      <td>CumminsOracle cloud SCM technical\\nWe need EBS...</td>\n",
       "      <td>67.00</td>\n",
       "      <td>HOURLY</td>\n",
       "      <td>Contract</td>\n",
       "      <td>Columbus, IN</td>\n",
       "    </tr>\n",
       "    <tr>\n",
       "      <th>141</th>\n",
       "      <td>5059324.0</td>\n",
       "      <td>Estimator</td>\n",
       "      <td>EstimatorThe Procopio Companies (TPC) is a gro...</td>\n",
       "      <td>12.00</td>\n",
       "      <td>HOURLY</td>\n",
       "      <td>Full-time</td>\n",
       "      <td>Middleton, MA</td>\n",
       "    </tr>\n",
       "    <tr>\n",
       "      <th>142</th>\n",
       "      <td>5059324.0</td>\n",
       "      <td>Site Foreman</td>\n",
       "      <td>Site Crew Foreman The Procopio Companies (TPC)...</td>\n",
       "      <td>12.00</td>\n",
       "      <td>HOURLY</td>\n",
       "      <td>Full-time</td>\n",
       "      <td>Middleton, MA</td>\n",
       "    </tr>\n",
       "  </tbody>\n",
       "</table>\n",
       "</div>"
      ],
      "text/plain": [
       "     company_id                               title  \\\n",
       "18    1082195.0        Contract Bilingual Recruiter   \n",
       "96   72739246.0         After School Academic Tutor   \n",
       "99   90666319.0  oracle SCM TECHNO CLOUD FUNCTIONAL   \n",
       "141   5059324.0                           Estimator   \n",
       "142   5059324.0                        Site Foreman   \n",
       "\n",
       "                                           description    salary pay_period  \\\n",
       "18   Location: Phoenix, AZ 85006---- IN OFFICE JOB ...  65000.00     YEARLY   \n",
       "96   Sterling House Community Center, Inc. Title: A...     33.59     HOURLY   \n",
       "99   CumminsOracle cloud SCM technical\\nWe need EBS...     67.00     HOURLY   \n",
       "141  EstimatorThe Procopio Companies (TPC) is a gro...     12.00     HOURLY   \n",
       "142  Site Crew Foreman The Procopio Companies (TPC)...     12.00     HOURLY   \n",
       "\n",
       "     work-type       location  \n",
       "18    Contract    Phoenix, AZ  \n",
       "96   Full-time  Stratford, CT  \n",
       "99    Contract   Columbus, IN  \n",
       "141  Full-time  Middleton, MA  \n",
       "142  Full-time  Middleton, MA  "
      ]
     },
     "execution_count": 9,
     "metadata": {},
     "output_type": "execute_result"
    }
   ],
   "source": [
    "jobs_data2 = pd.read_csv(\"data/job_postings.csv\")\n",
    "\n",
    "jobs_data2.drop(columns=[\"max_salary\",\"min_salary\",\"job_id\",\"expiry\",\"closed_time\",\"applies\",\"currency\",\"compensation_type\"\t,\"original_listed_time\",\t\"remote_allowed\",\t\"views\",\t\"job_posting_url\",\t\"application_url\"\t,\"application_type\",\"formatted_experience_level\",\"skills_desc\",\"listed_time\",\t\"posting_domain\",\t\"sponsored\"\t,\"work_type\"],inplace=True)\n",
    "jobs_data2 = jobs_data2[jobs_data2.pay_period.notnull()]\n",
    "# jobs_data2.drop(columns=[\"pay_period\"],inplace=True) #É para meter junto com salary\n",
    "jobs_data2 = jobs_data2[jobs_data2.med_salary.notnull()]\n",
    "jobs_data2.rename(columns = {'med_salary':'salary','formatted_work_type':'work-type'}, inplace = True)\n",
    "jobs_data2.head()\n"
   ]
  },
  {
   "cell_type": "code",
   "execution_count": 10,
   "metadata": {},
   "outputs": [
    {
     "data": {
      "text/plain": [
       "<AxesSubplot: >"
      ]
     },
     "execution_count": 10,
     "metadata": {},
     "output_type": "execute_result"
    },
    {
     "data": {
      "image/png": "[encoded data removed]",
      "text/plain": [
       "<Figure size 640x480 with 1 Axes>"
      ]
     },
     "metadata": {},
     "output_type": "display_data"
    }
   ],
   "source": [
    "%matplotlib inline\n",
    "\n",
    "import matplotlib.pyplot as plt\n",
    "jobs_data2['work-type'].value_counts().plot(kind='bar')"
   ]
  },
  {
   "cell_type": "code",
   "execution_count": 11,
   "metadata": {},
   "outputs": [
    {
     "data": {
      "text/html": [
       "<div>\n",
       "<style scoped>\n",
       "    .dataframe tbody tr th:only-of-type {\n",
       "        vertical-align: middle;\n",
       "    }\n",
       "\n",
       "    .dataframe tbody tr th {\n",
       "        vertical-align: top;\n",
       "    }\n",
       "\n",
       "    .dataframe thead th {\n",
       "        text-align: right;\n",
       "    }\n",
       "</style>\n",
       "<table border=\"1\" class=\"dataframe\">\n",
       "  <thead>\n",
       "    <tr style=\"text-align: right;\">\n",
       "      <th></th>\n",
       "      <th>title</th>\n",
       "      <th>work-type</th>\n",
       "      <th>salary</th>\n",
       "      <th>location</th>\n",
       "      <th>description</th>\n",
       "      <th>pay_period</th>\n",
       "      <th>company_id</th>\n",
       "    </tr>\n",
       "  </thead>\n",
       "  <tbody>\n",
       "    <tr>\n",
       "      <th>0</th>\n",
       "      <td>Central Graduate Advisor</td>\n",
       "      <td>Full-time</td>\n",
       "      <td>47210.0</td>\n",
       "      <td>Edmonton, AB</td>\n",
       "      <td>FGSR Grad Studies &amp; Rsrch Admi\\n\\nCompetition ...</td>\n",
       "      <td>YEARLY</td>\n",
       "      <td>3.700153e+09</td>\n",
       "    </tr>\n",
       "    <tr>\n",
       "      <th>1</th>\n",
       "      <td>Post-doctoral Fellow</td>\n",
       "      <td>Full-time</td>\n",
       "      <td>50000.0</td>\n",
       "      <td>Edmonton, AB</td>\n",
       "      <td>ART East Asian Studies\\n\\nCompetition No. -\\nA...</td>\n",
       "      <td>YEARLY</td>\n",
       "      <td>3.700153e+09</td>\n",
       "    </tr>\n",
       "    <tr>\n",
       "      <th>2</th>\n",
       "      <td>Graduate Research Assistant</td>\n",
       "      <td>Full-time</td>\n",
       "      <td>20000.0</td>\n",
       "      <td>Calgary, AB</td>\n",
       "      <td>The Adaptive Bionics Lab at the University of ...</td>\n",
       "      <td>YEARLY</td>\n",
       "      <td>3.700153e+09</td>\n",
       "    </tr>\n",
       "    <tr>\n",
       "      <th>3</th>\n",
       "      <td>Postdoctoral Fellow in Environmental Epidemiology</td>\n",
       "      <td>Full-time</td>\n",
       "      <td>50000.0</td>\n",
       "      <td>Edmonton, AB</td>\n",
       "      <td>PH School of Public Health\\n\\nCompetition No. ...</td>\n",
       "      <td>YEARLY</td>\n",
       "      <td>3.700153e+09</td>\n",
       "    </tr>\n",
       "    <tr>\n",
       "      <th>4</th>\n",
       "      <td>Advisor, Student Service Centre</td>\n",
       "      <td>Full-time</td>\n",
       "      <td>51055.0</td>\n",
       "      <td>Edmonton, AB</td>\n",
       "      <td>RO Student Service Centre\\n\\nCompetition No. -...</td>\n",
       "      <td>YEARLY</td>\n",
       "      <td>3.700153e+09</td>\n",
       "    </tr>\n",
       "  </tbody>\n",
       "</table>\n",
       "</div>"
      ],
      "text/plain": [
       "                                               title  work-type   salary  \\\n",
       "0                           Central Graduate Advisor  Full-time  47210.0   \n",
       "1                               Post-doctoral Fellow  Full-time  50000.0   \n",
       "2                        Graduate Research Assistant  Full-time  20000.0   \n",
       "3  Postdoctoral Fellow in Environmental Epidemiology  Full-time  50000.0   \n",
       "4                    Advisor, Student Service Centre  Full-time  51055.0   \n",
       "\n",
       "       location                                        description pay_period  \\\n",
       "0  Edmonton, AB  FGSR Grad Studies & Rsrch Admi\\n\\nCompetition ...     YEARLY   \n",
       "1  Edmonton, AB  ART East Asian Studies\\n\\nCompetition No. -\\nA...     YEARLY   \n",
       "2   Calgary, AB  The Adaptive Bionics Lab at the University of ...     YEARLY   \n",
       "3  Edmonton, AB  PH School of Public Health\\n\\nCompetition No. ...     YEARLY   \n",
       "4  Edmonton, AB  RO Student Service Centre\\n\\nCompetition No. -...     YEARLY   \n",
       "\n",
       "     company_id  \n",
       "0  3.700153e+09  \n",
       "1  3.700153e+09  \n",
       "2  3.700153e+09  \n",
       "3  3.700153e+09  \n",
       "4  3.700153e+09  "
      ]
     },
     "execution_count": 11,
     "metadata": {},
     "output_type": "execute_result"
    }
   ],
   "source": [
    "\n",
    "jobs_data_final = pd.concat([jobs_data,jobs_data2])\n",
    "jobs_data_final.head()\n"
   ]
  },
  {
   "cell_type": "code",
   "execution_count": 12,
   "metadata": {},
   "outputs": [
    {
     "data": {
      "text/plain": [
       "<AxesSubplot: >"
      ]
     },
     "execution_count": 12,
     "metadata": {},
     "output_type": "execute_result"
    },
    {
     "data": {
      "image/png": "[encoded data removed]",
      "text/plain": [
       "<Figure size 640x480 with 1 Axes>"
      ]
     },
     "metadata": {},
     "output_type": "display_data"
    }
   ],
   "source": [
    "%matplotlib inline\n",
    "\n",
    "import matplotlib.pyplot as plt\n",
    "jobs_data_final['pay_period'].value_counts().plot(kind='bar')"
   ]
  },
  {
   "cell_type": "code",
   "execution_count": 13,
   "metadata": {},
   "outputs": [
    {
     "data": {
      "text/html": [
       "<div>\n",
       "<style scoped>\n",
       "    .dataframe tbody tr th:only-of-type {\n",
       "        vertical-align: middle;\n",
       "    }\n",
       "\n",
       "    .dataframe tbody tr th {\n",
       "        vertical-align: top;\n",
       "    }\n",
       "\n",
       "    .dataframe thead th {\n",
       "        text-align: right;\n",
       "    }\n",
       "</style>\n",
       "<table border=\"1\" class=\"dataframe\">\n",
       "  <thead>\n",
       "    <tr style=\"text-align: right;\">\n",
       "      <th></th>\n",
       "      <th>company_id</th>\n",
       "    </tr>\n",
       "  </thead>\n",
       "  <tbody>\n",
       "    <tr>\n",
       "      <th>count</th>\n",
       "      <td>7.888000e+03</td>\n",
       "    </tr>\n",
       "    <tr>\n",
       "      <th>mean</th>\n",
       "      <td>9.073491e+08</td>\n",
       "    </tr>\n",
       "    <tr>\n",
       "      <th>std</th>\n",
       "      <td>1.577545e+09</td>\n",
       "    </tr>\n",
       "    <tr>\n",
       "      <th>min</th>\n",
       "      <td>1.009000e+03</td>\n",
       "    </tr>\n",
       "    <tr>\n",
       "      <th>25%</th>\n",
       "      <td>2.328195e+05</td>\n",
       "    </tr>\n",
       "    <tr>\n",
       "      <th>50%</th>\n",
       "      <td>9.321004e+06</td>\n",
       "    </tr>\n",
       "    <tr>\n",
       "      <th>75%</th>\n",
       "      <td>9.436839e+07</td>\n",
       "    </tr>\n",
       "    <tr>\n",
       "      <th>max</th>\n",
       "      <td>3.700154e+09</td>\n",
       "    </tr>\n",
       "  </tbody>\n",
       "</table>\n",
       "</div>"
      ],
      "text/plain": [
       "         company_id\n",
       "count  7.888000e+03\n",
       "mean   9.073491e+08\n",
       "std    1.577545e+09\n",
       "min    1.009000e+03\n",
       "25%    2.328195e+05\n",
       "50%    9.321004e+06\n",
       "75%    9.436839e+07\n",
       "max    3.700154e+09"
      ]
     },
     "execution_count": 13,
     "metadata": {},
     "output_type": "execute_result"
    }
   ],
   "source": [
    "company_data2 = pd.read_csv(\"data/companies.csv\")\n",
    "company_data2.drop(columns=[\"description\",\t\"company_size\",\t\"state\"\t,\"country\"\t,\"city\",\t\"zip_code\",\t\"address\",\t\"url\"],inplace=True)\n",
    "company_data2.rename(columns = {'name':'company'}, inplace = True)\n",
    "\n",
    "company_data2.head()\n",
    "company_data_final = pd.concat([company_data,company_data2])\n",
    "company_data_final.describe()"
   ]
  }
 ],
 "metadata": {
  "kernelspec": {
   "display_name": "base",
   "language": "python",
   "name": "python3"
  },
  "language_info": {
   "codemirror_mode": {
    "name": "ipython",
    "version": 3
   },
   "file_extension": ".py",
   "mimetype": "text/x-python",
   "name": "python",
   "nbconvert_exporter": "python",
   "pygments_lexer": "ipython3",
   "version": "3.10.9"
  }
 },
 "nbformat": 4,
 "nbformat_minor": 2
}
